{
 "cells": [
  {
   "cell_type": "markdown",
   "metadata": {},
   "source": [
    "<img src=\"http://imgur.com/1ZcRyrc.png\" style=\"float: left; margin: 20px; height: 55px\">\n",
    "\n",
    "# Project 1: Data Analysis of Singapore Rainfall"
   ]
  },
  {
   "cell_type": "markdown",
   "metadata": {},
   "source": [
    "--- \n",
    "# Part 1\n",
    "\n",
    "Part 1 requires knowledge of basic Python.\n",
    "\n",
    "---"
   ]
  },
  {
   "cell_type": "markdown",
   "metadata": {},
   "source": [
    "### Contents:\n",
    "- [Background](#Background)\n",
    "- [Data Import & Cleaning](#Data-Import-and-Cleaning)\n",
    "- [Exploratory Data Analysis](#Exploratory-Data-Analysis)\n",
    "- [Data Visualization](#Visualize-the-Data)\n",
    "- [Conclusions and Recommendations](#Conclusions-and-Recommendations)"
   ]
  },
  {
   "cell_type": "markdown",
   "metadata": {},
   "source": [
    "## Background"
   ]
  },
  {
   "cell_type": "markdown",
   "metadata": {},
   "source": [
    "According to the [Meteorological Services Singapore](http://www.weather.gov.sg/climate-climate-of-singapore/#:~:text=Singapore%20is%20situated%20near%20the,month%2Dto%2Dmonth%20variation.), Singapore has typical tropical climate with adundant rainfall, high and uniform temperatures and high humidity all year round, since its situated near the equator. There are many factors that help us understand the climate of a country and in this project we are going to look into a few, especially rainfall.\n",
    "\n",
    "Singapore’s climate is characterised by two main monsoon seasons separated by inter-monsoonal periods.  The **Northeast Monsoon** occurs from December to early March, and the **Southwest Monsoon** from June to September.\n",
    "\n",
    "The major weather systems affecting Singapore that can lead to heavy rainfall are:\n",
    "\n",
    "-Monsoon surges, or strong wind episodes in the Northeast Monsoon flow bringing about major rainfall events;\n",
    "\n",
    "-Sumatra squalls, an organised line of thunderstorms travelling eastward across Singapore, having developed over the island of Sumatra or Straits of Malacca west of us;\n",
    "\n",
    "-Afternoon and evening thunderstorms caused by strong surface heating and by the sea breeze circulation that develops in the afternoon.\n",
    "\n",
    "Singapore’s climate station has been located at several different sites in the past 140 years. The station had been decommissioned at various points in the past due to changes to local land use in the site’s vicinity, and had to be relocated. Since 1984, the climate station has been located at **Changi**.\n",
    "\n",
    "There are other metrics of climate such as temperature, humidity, sun shine duration, wind speed, cloud cover etc. All the dataset used in the project comes from [data.gov.sg](data.gov.sg), as recorded at the Changi climate station \n"
   ]
  },
  {
   "cell_type": "markdown",
   "metadata": {},
   "source": [
    "### Choose your Data\n",
    "\n",
    "There are 2 datasets included in the [`data`](./data/) folder for this project. These correponds to rainfall information. \n",
    "\n",
    "* [`rainfall-monthly-number-of-rain-days.csv`](./data/rainfall-monthly-number-of-rain-days.csv): Monthly number of rain days from 1982 to 2022. A day is considered to have “rained” if the total rainfall for that day is 0.2mm or more.\n",
    "* [`rainfall-monthly-total.csv`](./data/rainfall-monthly-total.csv): Monthly total rain recorded in mm(millimeters) from 1982 to 2022\n",
    "\n",
    "Other relevant weather datasets from [data.gov.sg](data.gov.sg) that you can download and use are as follows:\n",
    "\n",
    "* [Relative Humidity](https://data.gov.sg/dataset/relative-humidity-monthly-mean)\n",
    "* [Monthly Maximum Daily Rainfall](https://data.gov.sg/dataset/rainfall-monthly-maximum-daily-total)\n",
    "* [Hourly wet buld temperature](https://data.gov.sg/dataset/wet-bulb-temperature-hourly)\n",
    "* [Monthly mean sunshine hours](https://data.gov.sg/dataset/sunshine-duration-monthly-mean-daily-duration)\n",
    "* [Surface Air Temperature](https://data.gov.sg/dataset/surface-air-temperature-mean-daily-minimum)\n",
    "\n",
    "You can also use other datasets for your analysis, make sure to cite the source when you are using them"
   ]
  },
  {
   "cell_type": "markdown",
   "metadata": {},
   "source": [
    "Datasets:</br>\n",
    "___Weather data extracted from data.gov.sg___\n",
    "1) Monthly number of rainy days from 1982 to 2022\n",
    "2) Monthly total recorded rainfall in mm (millimeters) from 1982 to 2022\n",
    "3) Monthly relative humidity (%) from 1982 to 2022\n",
    "4) Monthly sunshine duration (hours) from 1982 to 2022</br>\n",
    "\n",
    "___Historical inflation rate extracted from inflationrate.com___\n",
    "1) Monthly inflation rate (%) from 1982 to 2022"
   ]
  },
  {
   "cell_type": "markdown",
   "metadata": {},
   "source": [
    "## Problem Statement"
   ]
  },
  {
   "cell_type": "markdown",
   "metadata": {},
   "source": [
    "The Outdoor Collectives (TOC) is an outdoor apparel shop known for their handheld electronic fans, lightweight umbrellas as well as sunblock lotions. Established since the early 2000s in Honolulu, Hawaii, TOC has since expanded it's operations to America and has set its sights on the Asean region, with Singapore being the first country for their market entry strategy. At the same time, TOC has identified that consumers are becoming increasingly reluctant to carry umbrellas, electronic fans and sunblock lotion as part of their everyday carry (EDC), citing reasons that it takes up additional space in their bags. As such, TOC also like to explore to setup of temoprary retail spaces around Singapore to sell their products.\n",
    "\n",
    "TOC's target consumers would be Singapore residents from all age groups. The organisation wants to ensure that there is proper inventory management throughout the year, taking into account the Singapore weather conditions. The organisation anticipates sales for sunblock lotion and visors to be higher on days with more sunlight and while those for electronic fans on days with high humidity levels. Sales of umbrellas are expected to be higher on rainy days.\n",
    "\n",
    "This study explores the analysis of Singapore's historical weather data to enable TOC to efficiently cater for supplies of their products throughout the year."
   ]
  },
  {
   "cell_type": "markdown",
   "metadata": {},
   "source": [
    "### Outside Research"
   ]
  },
  {
   "cell_type": "markdown",
   "metadata": {},
   "source": [
    "Based on your problem statement and your chosen datasets, spend some time doing outside research on how climate change is affecting different industries or additional information that might be relevant. Summarize your findings below. If you bring in any outside tables or charts, make sure you are explicit about having borrowed them. If you quote any text, make sure that it renders as being quoted. **Make sure that you cite your sources.**"
   ]
  },
  {
   "cell_type": "markdown",
   "metadata": {},
   "source": [
    "___How Weather Affects Consumer behavior and Purchase Decisions___ </br>\n",
    "Source: https://www.weatherads.io/blog/how-weather-affects-consumer-behavior-and-purchase-decisions </br>\n",
    "\"Weather has a deep-rooted effect on consumer psychology and purchase behavior.\" </br>\n",
    "This article provides insights as to how weather has an affect an invidivual's mood and drive them towards making certain purchase decisions.\n",
    "\n",
    "___How the Consumer Price Index Measures The Cost of Living and Inflation___ </br>\n",
    "Source: https://www.cnbc.com/select/how-the-consumer-price-index-measures-the-cost-of-living-and-inflation/ </br>\n",
    "\"CPI weighs certain spending categories more than others based on the things people, on average, are spending their money on.\" </br>\n",
    "This source explains how inflation affects consumers' purchasing decision be it across different categories such as energy or food.\n",
    "\n",
    "___It’s the Weather: Quantifying the Impact of Weather on Retail Sales___ </br>\n",
    "Source: https://link.springer.com/article/10.1007/s12061-021-09397-0 </br>\n",
    "\"There is an inherent seasonality in the retail sector, which occurs both in overall sales volumes and individual product sales Jang (2004) attributes this seasonality to two main factors, the natural climatic seasons and their corresponding weather conditions, and institutional seasons reflecting social norms such as religious or school holidays. \"\n",
    "\n",
    "\"Research shows that retail sales are influenced by various economic measures, such as the consumer price index (CPI), disposable income, consumer confidence and unemployment levels.\"\n",
    "\n",
    "This source further emphaises the impact of weather on retail sales coupled with the effects of inflation, driving consumer's purchasing decision."
   ]
  },
  {
   "cell_type": "markdown",
   "metadata": {},
   "source": [
    "### Coding Challenges\n",
    "\n",
    "1. Manually calculate mean:\n",
    "\n",
    "    Write a function that takes in values and returns the mean of the values. Create a list of numbers that you test on your function to check to make sure your function works!\n",
    "    \n",
    "    *Note*: Do not use any mean methods built-in to any Python libraries to do this! This should be done without importing any additional libraries."
   ]
  },
  {
   "cell_type": "markdown",
   "metadata": {},
   "source": [
    "## Function to calculate mean"
   ]
  },
  {
   "cell_type": "code",
   "execution_count": null,
   "metadata": {},
   "outputs": [],
   "source": [
    "def calculate_mean(val_list):\n",
    "    total_sum = 0\n",
    "    count = 0\n",
    "    for x in val_list:\n",
    "        total_sum=total_sum+x\n",
    "        count=count+1\n",
    "    average=total_sum/count\n",
    "    return average\n",
    "    "
   ]
  },
  {
   "cell_type": "code",
   "execution_count": null,
   "metadata": {},
   "outputs": [],
   "source": [
    "# test data\n",
    "list_num=[1,2,3,4,5]"
   ]
  },
  {
   "cell_type": "code",
   "execution_count": null,
   "metadata": {},
   "outputs": [],
   "source": [
    "calculate_mean(list_num)"
   ]
  },
  {
   "cell_type": "markdown",
   "metadata": {},
   "source": [
    "2. Manually calculate standard deviation:\n",
    "\n",
    "    The formula for standard deviation is below:\n",
    "\n",
    "    $$\\sigma = \\sqrt{\\frac{1}{n}\\sum_{i=1}^n(x_i - \\mu)^2}$$\n",
    "\n",
    "    Where $x_i$ represents each value in the dataset, $\\mu$ represents the mean of all values in the dataset and $n$ represents the number of values in the dataset.\n",
    "\n",
    "    Write a function that takes in values and returns the standard deviation of the values using the formula above. Hint: use the function you wrote above to calculate the mean! Use the list of numbers you created above to test on your function.\n",
    "    \n",
    "    *Note*: Do not use any standard deviation methods built-in to any Python libraries to do this! This should be done without importing any additional libraries."
   ]
  },
  {
   "cell_type": "markdown",
   "metadata": {},
   "source": [
    "## Function to calculate standard deviation"
   ]
  },
  {
   "cell_type": "code",
   "execution_count": null,
   "metadata": {},
   "outputs": [],
   "source": [
    "def calculate_sd(val_list):\n",
    "    # x represents each value in the data set\n",
    "    # y represents the mean of all values in the dataset\n",
    "    # n represents the number of values in the data set\n",
    "    \n",
    "    n = len(val_list)\n",
    "    y = calculate_mean(val_list)\n",
    "    holding_val=0\n",
    "    for x in val_list:\n",
    "        holding_val=holding_val+ (x-y)**2\n",
    "    sd = (((1/n)*holding_val))**(1/2)\n",
    "    return sd"
   ]
  },
  {
   "cell_type": "code",
   "execution_count": null,
   "metadata": {},
   "outputs": [],
   "source": [
    "calculate_sd(list_num)"
   ]
  },
  {
   "cell_type": "markdown",
   "metadata": {},
   "source": [
    "--- \n",
    "# Part 2\n",
    "\n",
    "Part 2 requires knowledge of Pandas, EDA, data cleaning, and data visualization.\n",
    "\n",
    "---"
   ]
  },
  {
   "cell_type": "markdown",
   "metadata": {},
   "source": [
    "*All libraries used should be added here*"
   ]
  },
  {
   "cell_type": "code",
   "execution_count": null,
   "metadata": {},
   "outputs": [],
   "source": [
    "import pandas as pd\n",
    "import numpy as np\n",
    "import matplotlib.pyplot as plt\n",
    "import seaborn as sns\n",
    "import scipy.stats as stats\n",
    "\n",
    "%matplotlib inline"
   ]
  },
  {
   "cell_type": "markdown",
   "metadata": {},
   "source": [
    "## Data Import and Cleaning"
   ]
  },
  {
   "cell_type": "markdown",
   "metadata": {},
   "source": [
    "### Data Import & Cleaning\n",
    "\n",
    "Import all the datasets that you selected for this project and go through the following steps at a minimum. You are welcome to do further cleaning as you feel necessary. Make sure to comment your code to showcase the intent behind the data processing step.\n",
    "1. Display the data: print the first 5 rows of each dataframe to your Jupyter notebook.\n",
    "2. Check for missing values and datatype.\n",
    "3. Check for any obvious issues with the observations.\n",
    "4. Fix any errors you identified in steps 2-3.\n",
    "6. Fix any incorrect data types found in step 5.\n",
    "    - Fix any individual values preventing other columns from being the appropriate type.\n",
    "    - If the month column data is better analyzed as month and year, create new columns for the same\n",
    "7. Rename Columns.\n",
    "    - Column names should be all lowercase.\n",
    "    - Column names should not contain spaces (underscores will suffice--this allows for using the `df.column_name` method to access columns in addition to `df['column_name']`).\n",
    "    - Column names should be unique and informative.\n",
    "8. Drop unnecessary rows (if needed).\n",
    "9. Merge dataframes that can be merged.\n",
    "    - Since different climate metrics are in month format, you can merge them into one single dataframe for easier analysis\n",
    "10. Perform any additional cleaning that you feel is necessary.\n",
    "11. Save your cleaned and merged dataframes as csv files."
   ]
  },
  {
   "cell_type": "markdown",
   "metadata": {},
   "source": [
    "### Import dataset"
   ]
  },
  {
   "cell_type": "code",
   "execution_count": null,
   "metadata": {},
   "outputs": [],
   "source": [
    "# Import data\n",
    "df_monthly_rain_days = pd.read_csv('../data/rainfall-monthly-number-of-rain-days.csv')\n",
    "df_monthly_rain_total = pd.read_csv('../data/rainfall-monthly-total.csv')\n",
    "df_monthly_humidity = pd.read_csv('../data/relative-humidity-monthly-mean.csv')\n",
    "df_monthly_sunshine = pd.read_csv('../data/sunshine-duration-monthly-mean-daily-duration.csv')\n",
    "df_historical_infl = pd.read_csv('../data/singapore-historical-inflation.csv')"
   ]
  },
  {
   "cell_type": "markdown",
   "metadata": {},
   "source": [
    "#### Singapore Historical Inflation Dataset"
   ]
  },
  {
   "cell_type": "code",
   "execution_count": null,
   "metadata": {},
   "outputs": [],
   "source": [
    "# Display first 5 rows of data\n",
    "df_historical_infl.head()"
   ]
  },
  {
   "cell_type": "code",
   "execution_count": null,
   "metadata": {},
   "outputs": [],
   "source": [
    "# Identify the shape\n",
    "df_historical_infl.shape"
   ]
  },
  {
   "cell_type": "code",
   "execution_count": null,
   "metadata": {},
   "outputs": [],
   "source": [
    "# Drop \"Annual\" column as it will not be used as part of EDA\n",
    "df_historical_infl.drop(labels=['Annual'], axis=1, inplace=True)"
   ]
  },
  {
   "cell_type": "code",
   "execution_count": null,
   "metadata": {},
   "outputs": [],
   "source": [
    "# Prepare months in a list to reshape\n",
    "months = [\"Jan\", \"Feb\", \"Mar\", \"Apr\", \"May\", \"Jun\", \"Jul\", \"Aug\", \"Sep\", \"Oct\", \"Nov\", \"Dec\"]\n",
    "\n",
    "# Zip respective strings to values\n",
    "month_map = dict(zip(months, [i for i in range(1,13)]))"
   ]
  },
  {
   "cell_type": "code",
   "execution_count": null,
   "metadata": {},
   "outputs": [],
   "source": [
    "# Perform melt\n",
    "df_melted_infl = df_historical_infl.melt(id_vars=[\"Year\"], value_vars=months, var_name=\"Month\", value_name=\"inflation\")"
   ]
  },
  {
   "cell_type": "code",
   "execution_count": null,
   "metadata": {},
   "outputs": [],
   "source": [
    "df_melted_infl = df_melted_infl.replace({\"Month\": month_map})\n",
    "ym = [f\"{y}-{m:02d}\" for y, m in df_melted_infl[[\"Year\", \"Month\"]].values]\n",
    "df_melted_infl.insert(0, \"Year-Month\", ym)\n",
    "df_melted_infl.drop([\"Year\", \"Month\"], axis=1, inplace=True)"
   ]
  },
  {
   "cell_type": "code",
   "execution_count": null,
   "metadata": {},
   "outputs": [],
   "source": [
    "# Remove '%'\n",
    "df_melted_infl['inflation'] = df_melted_infl['inflation'].str.replace('%',' ')"
   ]
  },
  {
   "cell_type": "code",
   "execution_count": null,
   "metadata": {},
   "outputs": [],
   "source": [
    "# Check reshaped table\n",
    "df_melted_infl.head()"
   ]
  },
  {
   "cell_type": "code",
   "execution_count": null,
   "metadata": {},
   "outputs": [],
   "source": [
    "df_melted_infl.info()"
   ]
  },
  {
   "cell_type": "code",
   "execution_count": null,
   "metadata": {},
   "outputs": [],
   "source": [
    "# Convert 'inflation' data type from object to float\n",
    "# 'Year-Month' data type will be converted to date time after merging with other datasets\n",
    "df_melted_infl['inflation'] = pd.to_numeric(df_melted_infl['inflation'])"
   ]
  },
  {
   "cell_type": "code",
   "execution_count": null,
   "metadata": {},
   "outputs": [],
   "source": [
    "# Rename header for Year-Month for ease of merging after\n",
    "df_melted_infl.rename(columns={'Year-Month':'month'}, inplace=True)"
   ]
  },
  {
   "cell_type": "markdown",
   "metadata": {},
   "source": [
    "#### Monthly Rainy Days Dataset"
   ]
  },
  {
   "cell_type": "code",
   "execution_count": null,
   "metadata": {},
   "outputs": [],
   "source": [
    "# Display first 5 rows of data for monthly number of rain days\n",
    "df_monthly_rain_days.head()"
   ]
  },
  {
   "cell_type": "markdown",
   "metadata": {},
   "source": [
    "#### Monthly Total Rain Dataset"
   ]
  },
  {
   "cell_type": "code",
   "execution_count": null,
   "metadata": {},
   "outputs": [],
   "source": [
    "# Display first 5 rows of data\n",
    "df_monthly_rain_total.head()"
   ]
  },
  {
   "cell_type": "code",
   "execution_count": null,
   "metadata": {},
   "outputs": [],
   "source": [
    "df_monthly_rain_days.info()"
   ]
  },
  {
   "cell_type": "markdown",
   "metadata": {},
   "source": [
    "#### Monthly Mean Humidity Dataset"
   ]
  },
  {
   "cell_type": "code",
   "execution_count": null,
   "metadata": {},
   "outputs": [],
   "source": [
    "# Display first 5 rows of data\n",
    "df_monthly_humidity.head()"
   ]
  },
  {
   "cell_type": "code",
   "execution_count": null,
   "metadata": {},
   "outputs": [],
   "source": [
    "df_monthly_humidity.info()"
   ]
  },
  {
   "cell_type": "markdown",
   "metadata": {},
   "source": [
    "#### Monthly Duration of Sunshine Dataset"
   ]
  },
  {
   "cell_type": "code",
   "execution_count": null,
   "metadata": {},
   "outputs": [],
   "source": [
    "# Display first 5 rows of data\n",
    "df_monthly_sunshine.head()"
   ]
  },
  {
   "cell_type": "code",
   "execution_count": null,
   "metadata": {},
   "outputs": [],
   "source": [
    "# High level overview of dataset\n",
    "df_monthly_sunshine.info()"
   ]
  },
  {
   "cell_type": "markdown",
   "metadata": {},
   "source": [
    "### Merging of the 4 datasets"
   ]
  },
  {
   "cell_type": "code",
   "execution_count": null,
   "metadata": {},
   "outputs": [],
   "source": [
    "# Merge df_monthly_rain_days and df_monthly_rain_total\n",
    "df_merge1 = pd.merge(df_monthly_rain_days, df_monthly_rain_total, how='left')"
   ]
  },
  {
   "cell_type": "code",
   "execution_count": null,
   "metadata": {},
   "outputs": [],
   "source": [
    "# Merge with df_monthly_humidity\n",
    "df_merge2 = pd.merge(df_merge1, df_monthly_humidity, how='right')"
   ]
  },
  {
   "cell_type": "code",
   "execution_count": null,
   "metadata": {},
   "outputs": [],
   "source": [
    "# Merge with df_monthly_sunshine\n",
    "df_merge3 = pd.merge(df_merge2, df_monthly_sunshine, how='left')"
   ]
  },
  {
   "cell_type": "code",
   "execution_count": null,
   "metadata": {},
   "outputs": [],
   "source": [
    "# Merge with df_melted_cpi\n",
    "df_merged= pd.merge(df_merge3, df_melted_infl, how='left')"
   ]
  },
  {
   "cell_type": "markdown",
   "metadata": {},
   "source": [
    "### Inspect outcome of merged datasets"
   ]
  },
  {
   "cell_type": "code",
   "execution_count": null,
   "metadata": {},
   "outputs": [],
   "source": [
    "df_merged.info()"
   ]
  },
  {
   "cell_type": "markdown",
   "metadata": {},
   "source": [
    "___Note___: 'month' category has yet to be converted to datetime format."
   ]
  },
  {
   "cell_type": "markdown",
   "metadata": {},
   "source": [
    "### Check for null values and convert month to datetime format"
   ]
  },
  {
   "cell_type": "code",
   "execution_count": null,
   "metadata": {},
   "outputs": [],
   "source": [
    "# Identify null values\n",
    "df_merged.isnull().sum()"
   ]
  },
  {
   "cell_type": "code",
   "execution_count": null,
   "metadata": {},
   "outputs": [],
   "source": [
    "# Drop null values and assign to new dataframe\n",
    "cleaned_df = df_merged.dropna()"
   ]
  },
  {
   "cell_type": "code",
   "execution_count": null,
   "metadata": {},
   "outputs": [],
   "source": [
    "# Convert series to date time format\n",
    "cleaned_df.loc[:,'month'] = pd.to_datetime(cleaned_df['month'], format='%Y-%m')"
   ]
  },
  {
   "cell_type": "markdown",
   "metadata": {},
   "source": [
    "### Data Dictionary\n",
    "\n",
    "Now that we've fixed our data, and given it appropriate names, let's create a [data dictionary](http://library.ucmerced.edu/node/10249). \n",
    "\n",
    "A data dictionary provides a quick overview of features/variables/columns, alongside data types and descriptions. The more descriptive you can be, the more useful this document is.\n",
    "\n",
    "Example of a Fictional Data Dictionary Entry: \n",
    "\n",
    "|Feature|Type|Dataset|Description|\n",
    "|---|---|---|---|\n",
    "|**county_pop**|*integer*|2010 census|The population of the county (units in thousands, where 2.5 represents 2500 people).| \n",
    "|**per_poverty**|*float*|2010 census|The percent of the county over the age of 18 living below the 200% of official US poverty rate (units percent to two decimal places 98.10 means 98.1%)|\n",
    "\n",
    "[Here's a quick link to a short guide for formatting markdown in Jupyter notebooks](https://jupyter-notebook.readthedocs.io/en/stable/examples/Notebook/Working%20With%20Markdown%20Cells.html).\n",
    "\n",
    "Provided is the skeleton for formatting a markdown table, with columns headers that will help you create a data dictionary to quickly summarize your data, as well as some examples. **This would be a great thing to copy and paste into your custom README for this project.**\n",
    "\n",
    "*Note*: if you are unsure of what a feature is, check the source of the data! This can be found in the README."
   ]
  },
  {
   "cell_type": "code",
   "execution_count": null,
   "metadata": {},
   "outputs": [],
   "source": [
    "# Recap of categories\n",
    "cleaned_df.info()"
   ]
  },
  {
   "cell_type": "markdown",
   "metadata": {},
   "source": [
    "**To-Do:** *Edit the table below to create your own data dictionary for the datasets you chose.*\n",
    "\n",
    "|Feature|Type|Dataset|Description|\n",
    "|---|---|---|---|\n",
    "|month|datetime64[ns]|rainfall-monthly-number-of-rain-days|Months from from 1982 to 2022| \n",
    "|no_of_rainy_days|float64|rainfall-monthly-number-of-rain-days|No. of rainy days per month from 1982 to 2022|\n",
    "|total_rainfall|float64|rainfall-monthly-total|Amount of rainfall (mm) per month from 1982 to 2022|\n",
    "|mean_rh|float64|relative-humidity-monthly-mean|Humidity levels (%) per month from 1982 to 2022|\n",
    "|mean_sunshine_hrs|float64|sunshine-duration-monthly-mean-daily-duration|Hours of sunshine (hours) per month from 1982 to 2022| \n",
    "|inflation|float64|singapore-historical-inflation|Inflation rate (%) per month from 1982 to 2022|"
   ]
  },
  {
   "cell_type": "markdown",
   "metadata": {},
   "source": [
    "## Exploratory Data Analysis\n",
    "\n",
    "Complete the following steps to explore your data. You are welcome to do more EDA than the steps outlined here as you feel necessary:\n",
    "1. Summary Statistics.\n",
    "2. Use a **dictionary comprehension** to apply the standard deviation function you create in part 1 to each numeric column in the dataframe.  **No loops**.\n",
    "    - Assign the output to variable `sd` as a dictionary where: \n",
    "        - Each column name is now a key \n",
    "        - That standard deviation of the column is the value \n",
    "        - *Example Output :* `{'rainfall-monthly-total': xxx, 'no_of_rainy_days': xxx, ...}`\n",
    "3. Investigate trends in the data.\n",
    "    - Using sorting and/or masking (along with the `.head()` method to avoid printing our entire dataframe), consider questions relevant to your problem statement. Some examples are provided below (but feel free to change these questions for your specific problem):\n",
    "        - Which month have the highest and lowest total rainfall in 1990, 2000, 2010 and 2020?\n",
    "        - Which year have the highest and lowest total rainfall in the date range of analysis?\n",
    "        - Which month have the highest and lowest number of rainy days in 1990, 2000, 2010 and 2020?\n",
    "        - Which year have the highest and lowest number of rainy days in the date range of analysis?\n",
    "        - Are there any outliers months in the dataset?\n",
    "       \n",
    "    - **The above 5 questions are compulsory. Feel free to explore other trends based on the datasets that you have choosen for analysis. You should comment on your findings at each step in a markdown cell below your code block**. Make sure you include at least one example of sorting your dataframe by a column, and one example of using boolean filtering (i.e., masking) to select a subset of the dataframe."
   ]
  },
  {
   "cell_type": "markdown",
   "metadata": {},
   "source": [
    "### Summary Statistics"
   ]
  },
  {
   "cell_type": "code",
   "execution_count": null,
   "metadata": {},
   "outputs": [],
   "source": [
    "# Summary statistics\n",
    "cleaned_df.describe()"
   ]
  },
  {
   "cell_type": "code",
   "execution_count": null,
   "metadata": {},
   "outputs": [],
   "source": [
    "# Dictionary comprehension combining column headers with their respective sd values\n",
    "column_headers=cleaned_df.columns[1:]\n",
    "column_std_values=cleaned_df.std()[1:]\n",
    "sd = dict(zip(column_headers,column_std_values))"
   ]
  },
  {
   "cell_type": "code",
   "execution_count": null,
   "metadata": {},
   "outputs": [],
   "source": [
    "sd"
   ]
  },
  {
   "cell_type": "markdown",
   "metadata": {},
   "source": [
    "### Which month have the highest and lowest total rainfall in 1990, 2000, 2010 and 2020?"
   ]
  },
  {
   "cell_type": "code",
   "execution_count": null,
   "metadata": {},
   "outputs": [],
   "source": [
    "cleaned_df.head()"
   ]
  },
  {
   "cell_type": "code",
   "execution_count": null,
   "metadata": {},
   "outputs": [],
   "source": [
    "# Filter\n",
    "df_1990 = cleaned_df[(cleaned_df['month']>='1990-01-01') & (cleaned_df['month']<='1990-12-01')]\n",
    "df_2000 = cleaned_df[(cleaned_df['month']>='2000-01-01') & (cleaned_df['month']<='2000-12-01')]\n",
    "df_2010=cleaned_df[(cleaned_df['month']>='2010-01-01') & (cleaned_df['month']<='2010-12-01')]\n",
    "df_2020=cleaned_df[(cleaned_df['month']>='2020-01-01') & (cleaned_df['month']<='2020-12-01')]"
   ]
  },
  {
   "cell_type": "code",
   "execution_count": null,
   "metadata": {},
   "outputs": [],
   "source": [
    "# Max value\n",
    "df_1990[df_1990['total_rainfall']==df_1990['total_rainfall'].max()]"
   ]
  },
  {
   "cell_type": "code",
   "execution_count": null,
   "metadata": {},
   "outputs": [],
   "source": [
    "# Min value\n",
    "df_1990[df_1990['total_rainfall']==df_1990['total_rainfall'].min()]"
   ]
  },
  {
   "cell_type": "markdown",
   "metadata": {},
   "source": [
    "___Answer___: </br>\n",
    "For the year 1990, September experienced the highest total rainfall (204.5 mm) while February experienced the lowest total rainfall (24.1 mm)."
   ]
  },
  {
   "cell_type": "code",
   "execution_count": null,
   "metadata": {},
   "outputs": [],
   "source": [
    "# Max value\n",
    "df_2000[df_2000['total_rainfall']==df_2000['total_rainfall'].max()]"
   ]
  },
  {
   "cell_type": "code",
   "execution_count": null,
   "metadata": {},
   "outputs": [],
   "source": [
    "# Min value\n",
    "df_2000[df_2000['total_rainfall']==df_2000['total_rainfall'].min()]"
   ]
  },
  {
   "cell_type": "markdown",
   "metadata": {},
   "source": [
    "___Answer___: </br>\n",
    "For the year 2000, November experienced the highest total rainfall (385.7 mm) while February experienced the lowest total rainfall (81.1 mm)."
   ]
  },
  {
   "cell_type": "code",
   "execution_count": null,
   "metadata": {},
   "outputs": [],
   "source": [
    "# Max value\n",
    "df_2010[df_2010['total_rainfall']==df_2010['total_rainfall'].max()]"
   ]
  },
  {
   "cell_type": "code",
   "execution_count": null,
   "metadata": {},
   "outputs": [],
   "source": [
    "# Min value\n",
    "df_2010[df_2010['total_rainfall']==df_2010['total_rainfall'].min()]"
   ]
  },
  {
   "cell_type": "markdown",
   "metadata": {},
   "source": [
    "___Answer___: </br>\n",
    "For the year 2010, July experienced the highest total rainfall (298.5 mm) while February experienced the lowest total rainfall (6.3 mm)."
   ]
  },
  {
   "cell_type": "code",
   "execution_count": null,
   "metadata": {},
   "outputs": [],
   "source": [
    "# Max value\n",
    "df_2020[df_2020['total_rainfall']==df_2020['total_rainfall'].max()]"
   ]
  },
  {
   "cell_type": "code",
   "execution_count": null,
   "metadata": {},
   "outputs": [],
   "source": [
    "# Min value\n",
    "df_2020[df_2020['total_rainfall']==df_2020['total_rainfall'].min()]"
   ]
  },
  {
   "cell_type": "markdown",
   "metadata": {},
   "source": [
    "___Answer___: </br>\n",
    "For the year 2020, May experienced the highest total rainfall (255.6mm) while February experienced the lowest total rainfall (65mm)."
   ]
  },
  {
   "cell_type": "markdown",
   "metadata": {},
   "source": [
    "### Which year have the highest and lowest total rainfall in the date range of analysis?"
   ]
  },
  {
   "cell_type": "code",
   "execution_count": null,
   "metadata": {},
   "outputs": [],
   "source": [
    "# Create a new category for year\n",
    "cleaned_df['year'] = pd.DatetimeIndex(cleaned_df['month']).year"
   ]
  },
  {
   "cell_type": "code",
   "execution_count": null,
   "metadata": {},
   "outputs": [],
   "source": [
    "df_rainfall_years = cleaned_df.groupby(['year']).sum()"
   ]
  },
  {
   "cell_type": "code",
   "execution_count": null,
   "metadata": {},
   "outputs": [],
   "source": [
    "df_rainfall_years[df_rainfall_years['total_rainfall']==df_rainfall_years['total_rainfall'].max()]"
   ]
  },
  {
   "cell_type": "code",
   "execution_count": null,
   "metadata": {},
   "outputs": [],
   "source": [
    "df_rainfall_years[df_rainfall_years['total_rainfall']==df_rainfall_years['total_rainfall'].min()]"
   ]
  },
  {
   "cell_type": "markdown",
   "metadata": {},
   "source": [
    "___Answer___: </br>\n",
    "The year 2007 experienced the highest amount of rainfall (2886.2 mm) while the year 1997 experienced the least amount of rainfall (1118.9 mm)."
   ]
  },
  {
   "cell_type": "markdown",
   "metadata": {},
   "source": [
    "### Which month have the highest and lowest number of rainy days in 1990, 2000, 2010 and 2020?"
   ]
  },
  {
   "cell_type": "code",
   "execution_count": null,
   "metadata": {},
   "outputs": [],
   "source": [
    "df_1990[df_1990['no_of_rainy_days']==df_1990['no_of_rainy_days'].max()]"
   ]
  },
  {
   "cell_type": "code",
   "execution_count": null,
   "metadata": {},
   "outputs": [],
   "source": [
    "df_1990[df_1990['no_of_rainy_days']==df_1990['no_of_rainy_days'].min()]"
   ]
  },
  {
   "cell_type": "markdown",
   "metadata": {},
   "source": [
    "___Answer___: </br>\n",
    "For the year 1990, the highest number of rainy days was in both September and November (17 days) while the lowest number of rainy days was in March (4 days)."
   ]
  },
  {
   "cell_type": "code",
   "execution_count": null,
   "metadata": {},
   "outputs": [],
   "source": [
    "df_2000[df_2000['no_of_rainy_days']==df_2000['no_of_rainy_days'].max()]"
   ]
  },
  {
   "cell_type": "code",
   "execution_count": null,
   "metadata": {},
   "outputs": [],
   "source": [
    "df_2000[df_2000['no_of_rainy_days']==df_2000['no_of_rainy_days'].min()]"
   ]
  },
  {
   "cell_type": "markdown",
   "metadata": {},
   "source": [
    "___Answer___: </br>\n",
    "For the year 2000, the highest number of rainy days was in November (21 days) while the lowest number of rainy days was in May (10 days)."
   ]
  },
  {
   "cell_type": "code",
   "execution_count": null,
   "metadata": {},
   "outputs": [],
   "source": [
    "df_2010[df_2010['no_of_rainy_days']==df_2010['no_of_rainy_days'].max()]"
   ]
  },
  {
   "cell_type": "code",
   "execution_count": null,
   "metadata": {},
   "outputs": [],
   "source": [
    "df_2010[df_2010['no_of_rainy_days']==df_2010['no_of_rainy_days'].min()]"
   ]
  },
  {
   "cell_type": "markdown",
   "metadata": {},
   "source": [
    "___Answer___: </br>\n",
    "For the year 2010, the highest number of rainy days was in November (21 days) while the lowest number of rainy days was in February (4 days)."
   ]
  },
  {
   "cell_type": "code",
   "execution_count": null,
   "metadata": {},
   "outputs": [],
   "source": [
    "df_2020[df_2020['no_of_rainy_days']==df_2020['no_of_rainy_days'].max()]"
   ]
  },
  {
   "cell_type": "code",
   "execution_count": null,
   "metadata": {},
   "outputs": [],
   "source": [
    "df_2020[df_2020['no_of_rainy_days']==df_2020['no_of_rainy_days'].min()]"
   ]
  },
  {
   "cell_type": "markdown",
   "metadata": {},
   "source": [
    "___Answer___: </br>\n",
    "For the year 2020, the highest number of rainy days was in July (22 days) while the lowest number of rainy days was in January (6 days)."
   ]
  },
  {
   "cell_type": "markdown",
   "metadata": {},
   "source": [
    "### Which year have the highest and lowest number of rainy days in the date range of analysis?"
   ]
  },
  {
   "cell_type": "code",
   "execution_count": null,
   "metadata": {},
   "outputs": [],
   "source": [
    "df_rainfall_years[df_rainfall_years['no_of_rainy_days']==df_rainfall_years['no_of_rainy_days'].max()]"
   ]
  },
  {
   "cell_type": "code",
   "execution_count": null,
   "metadata": {},
   "outputs": [],
   "source": [
    "df_rainfall_years[df_rainfall_years['no_of_rainy_days']==df_rainfall_years['no_of_rainy_days'].min()]"
   ]
  },
  {
   "cell_type": "markdown",
   "metadata": {},
   "source": [
    "___Answer___: </br>\n",
    "The year 2013 experienced the highest number of rainy days (206 days) while the year 1997 experienced the lowest number of rainy days (116 days)."
   ]
  },
  {
   "cell_type": "markdown",
   "metadata": {},
   "source": [
    "### Are there any outliers months in the dataset?"
   ]
  },
  {
   "cell_type": "code",
   "execution_count": null,
   "metadata": {},
   "outputs": [],
   "source": [
    "cleaned_df.info()"
   ]
  },
  {
   "cell_type": "code",
   "execution_count": null,
   "metadata": {},
   "outputs": [],
   "source": [
    "cleaned_df.boxplot(column =['no_of_rainy_days'], grid = False)"
   ]
  },
  {
   "cell_type": "code",
   "execution_count": null,
   "metadata": {},
   "outputs": [],
   "source": [
    "cleaned_df.boxplot(column =['total_rainfall'], grid = False)"
   ]
  },
  {
   "cell_type": "markdown",
   "metadata": {},
   "source": [
    "___Answer___: </br>\n",
    "There are outliers in the total_rainfall category"
   ]
  },
  {
   "cell_type": "code",
   "execution_count": null,
   "metadata": {},
   "outputs": [],
   "source": [
    "cleaned_df.boxplot(column =['mean_rh'], grid = False)"
   ]
  },
  {
   "cell_type": "markdown",
   "metadata": {},
   "source": [
    "___Answer___: </br>\n",
    "There are outliers in the mean_rh category."
   ]
  },
  {
   "cell_type": "code",
   "execution_count": null,
   "metadata": {},
   "outputs": [],
   "source": [
    "cleaned_df.boxplot(column =['mean_sunshine_hrs'], grid = False)"
   ]
  },
  {
   "cell_type": "markdown",
   "metadata": {},
   "source": [
    "___Answer___: </br>There are outliers in the mean_sunshine_hrs category."
   ]
  },
  {
   "cell_type": "code",
   "execution_count": null,
   "metadata": {},
   "outputs": [],
   "source": [
    "cleaned_df.boxplot(column =['inflation'], grid = False)"
   ]
  },
  {
   "cell_type": "markdown",
   "metadata": {},
   "source": [
    "___Answer___: </br>\n",
    "There are outliers in the inflation category."
   ]
  },
  {
   "cell_type": "markdown",
   "metadata": {},
   "source": [
    "## Visualize the Data\n",
    "\n",
    "There's not a magic bullet recommendation for the right number of plots to understand a given dataset, but visualizing your data is *always* a good idea. Not only does it allow you to quickly convey your findings (even if you have a non-technical audience), it will often reveal trends in your data that escaped you when you were looking only at numbers. It is important to not only create visualizations, but to **interpret your visualizations** as well.\n",
    "\n",
    "**Every plot should**:\n",
    "- Have a title\n",
    "- Have axis labels\n",
    "- Have appropriate tick labels\n",
    "- Text is legible in a plot\n",
    "- Plots demonstrate meaningful and valid relationships\n",
    "- Have an interpretation to aid understanding\n",
    "\n",
    "Here is an example of what your plots should look like following the above guidelines. Note that while the content of this example is unrelated, the principles of visualization hold:\n",
    "\n",
    "![](https://snag.gy/hCBR1U.jpg)\n",
    "*Interpretation: The above image shows that as we increase our spending on advertising, our sales numbers also tend to increase. There is a positive correlation between advertising spending and sales.*\n",
    "\n",
    "---\n",
    "\n",
    "Here are some prompts to get you started with visualizations. Feel free to add additional visualizations as you see fit:\n",
    "1. Use Seaborn's heatmap with pandas `.corr()` to visualize correlations between all numeric features.\n",
    "    - Heatmaps are generally not appropriate for presentations, and should often be excluded from reports as they can be visually overwhelming. **However**, they can be extremely useful in identify relationships of potential interest (as well as identifying potential collinearity before modeling).\n",
    "    - Please take time to format your output, adding a title. Look through some of the additional arguments and options. (Axis labels aren't really necessary, as long as the title is informative).\n",
    "2. Visualize distributions using histograms. If you have a lot, consider writing a custom function and use subplots.\n",
    "    - *OPTIONAL*: Summarize the underlying distributions of your features (in words & statistics)\n",
    "         - Be thorough in your verbal description of these distributions.\n",
    "         - Be sure to back up these summaries with statistics.\n",
    "         - We generally assume that data we sample from a population will be normally distributed. Do we observe this trend? Explain your answers for each distribution and how you think this will affect estimates made from these data.\n",
    "3. Plot and interpret boxplots. \n",
    "    - Boxplots demonstrate central tendency and spread in variables. In a certain sense, these are somewhat redundant with histograms, but you may be better able to identify clear outliers or differences in IQR, etc.\n",
    "    - Multiple values can be plotted to a single boxplot as long as they are of the same relative scale (meaning they have similar min/max values).\n",
    "    - Each boxplot should:\n",
    "        - Only include variables of a similar scale\n",
    "        - Have clear labels for each variable\n",
    "        - Have appropriate titles and labels\n",
    "4. Plot and interpret scatter plots to view relationships between features. Feel free to write a custom function, and subplot if you'd like. Functions save both time and space.\n",
    "    - Your plots should have:\n",
    "        - Two clearly labeled axes\n",
    "        - A proper title\n",
    "        - Colors and symbols that are clear and unmistakable\n",
    "5. Additional plots of your choosing.\n",
    "    - Are there any additional trends or relationships you haven't explored? Was there something interesting you saw that you'd like to dive further into? It's likely that there are a few more plots you might want to generate to support your narrative and recommendations that you are building toward. **As always, make sure you're interpreting your plots as you go**."
   ]
  },
  {
   "cell_type": "markdown",
   "metadata": {},
   "source": [
    "Some ideas for plots that can be generated:\n",
    "\n",
    "- Plot the histogram of the rainfall data with various bins and comment on the distribution of the data - is it centered, skewed?\n",
    "- Plot the box-and-whiskers plot. Comment on the different quartiles and identify any outliers in the dataset. \n",
    "- Is there a correlation between the number of rainy days and total rainfall in the month? What kind of correlation do your suspect? Does the graph show the same?\n"
   ]
  },
  {
   "cell_type": "markdown",
   "metadata": {},
   "source": [
    "### Correlation Heatmap"
   ]
  },
  {
   "cell_type": "code",
   "execution_count": null,
   "metadata": {},
   "outputs": [],
   "source": [
    "df_corr = cleaned_df.corr()\n",
    "# Mask\n",
    "mask = np.triu(np.ones_like(df_corr, dtype=np.bool))\n",
    "\n",
    "# Adjust corr\n",
    "mask = mask[1:, :-1]\n",
    "corr = df_corr.iloc[1:,:-1].copy()"
   ]
  },
  {
   "cell_type": "code",
   "execution_count": null,
   "metadata": {},
   "outputs": [],
   "source": [
    "plt.figure(figsize=(15,10))\n",
    "sns.heatmap(corr, mask=mask, annot=True, fmt=\".2f\", linewidth=.5, vmin=-1, vmax=1, cbar_kws={\"shrink\": .8})\n",
    "plt.title('Correlation matrix of all numeric values in dataset');"
   ]
  },
  {
   "cell_type": "markdown",
   "metadata": {},
   "source": [
    "___Remarks___: </br>\n",
    "Strong correlation between: </br>\n",
    "- total no. of rainy days and total rainfall\n",
    "- total no. of rainy days and humidity.\n",
    "- total rainfall and  humidity."
   ]
  },
  {
   "cell_type": "markdown",
   "metadata": {},
   "source": [
    "### Histogram subplots"
   ]
  },
  {
   "cell_type": "code",
   "execution_count": null,
   "metadata": {},
   "outputs": [],
   "source": [
    "fig, axs = plt.subplots(2, 2, figsize=(10,8))\n",
    "\n",
    "axs1 = plt.subplot2grid(shape=(2,6), loc=(0,0), colspan=2)\n",
    "axs2 = plt.subplot2grid((2,6), (0,2), colspan=2)\n",
    "axs3 = plt.subplot2grid((2,6), (0,4), colspan=2)\n",
    "axs4 = plt.subplot2grid((2,6), (1,1), colspan=2)\n",
    "axs5 = plt.subplot2grid((2,6), (1,3), colspan=2)\n",
    "\n",
    "\n",
    "axs1.hist(cleaned_df['no_of_rainy_days'], bins=10)\n",
    "axs1.set_title(\"Distribution of rainy days\")\n",
    "axs1.set_xlabel('No. of rainy days (days)')\n",
    "axs1.set_ylabel('Frequency')\n",
    "\n",
    "axs2.hist(cleaned_df['total_rainfall'], bins=10)\n",
    "axs2.set_title(\"Distribution of rainfall\")\n",
    "axs2.set_xlabel('Amount of rainfall (mm)')\n",
    "axs2.set_ylabel('Frequency')\n",
    "\n",
    "axs3.hist(cleaned_df['mean_rh'], bins=10)\n",
    "axs3.set_title(\"Distribution of humidity\")\n",
    "axs3.set_xlabel('Monthly mean relative humidity (%)')\n",
    "axs3.set_ylabel('Frequency')\n",
    "\n",
    "axs4.hist(cleaned_df['mean_sunshine_hrs'], bins=10)\n",
    "axs4.set_title(\"Distribution of hours of sunshine\")\n",
    "axs4.set_xlabel('Hours of sunshine (hours)')\n",
    "axs4.set_ylabel('Frequency')\n",
    "\n",
    "axs5.hist(cleaned_df['inflation'], bins=10)\n",
    "axs5.set_title(\"Distribution of inflation\")\n",
    "axs5.set_xlabel('Monthly inflation (%)')\n",
    "axs5.set_ylabel('Frequency')\n",
    "\n",
    "fig.tight_layout()\n",
    "plt.tight_layout()"
   ]
  },
  {
   "cell_type": "markdown",
   "metadata": {},
   "source": [
    "___Remarks___: </br>\n",
    "- Distribution for rainy days and hours of sunshine are normally distributed.\n",
    "- Distribution for rainfall (mm) and monthly inflation (%) are right-skewed.\n",
    "- Distribution for humidity is left-skewed."
   ]
  },
  {
   "cell_type": "markdown",
   "metadata": {},
   "source": [
    "### Boxplots to identify outliers in data"
   ]
  },
  {
   "cell_type": "code",
   "execution_count": null,
   "metadata": {},
   "outputs": [],
   "source": [
    "cleaned_df.boxplot(column =['no_of_rainy_days'], grid = False)"
   ]
  },
  {
   "cell_type": "code",
   "execution_count": null,
   "metadata": {},
   "outputs": [],
   "source": [
    "cleaned_df.boxplot(column =['total_rainfall'], grid = False)"
   ]
  },
  {
   "cell_type": "code",
   "execution_count": null,
   "metadata": {},
   "outputs": [],
   "source": [
    "cleaned_df.boxplot(column =['mean_rh'], grid = False)"
   ]
  },
  {
   "cell_type": "code",
   "execution_count": null,
   "metadata": {},
   "outputs": [],
   "source": [
    "cleaned_df.boxplot(column =['mean_sunshine_hrs'], grid = False)"
   ]
  },
  {
   "cell_type": "code",
   "execution_count": null,
   "metadata": {},
   "outputs": [],
   "source": [
    "cleaned_df.boxplot(column =['inflation'], grid = False)"
   ]
  },
  {
   "cell_type": "markdown",
   "metadata": {},
   "source": [
    "___Remarks___: </br>\n",
    "- Outliers are present in total_rainfall, mean_rh, mean_sunshine_hrs and inflation dataset.\n",
    "- Due to the size of the dataset being small, we will not exclude the outliers."
   ]
  },
  {
   "cell_type": "markdown",
   "metadata": {},
   "source": [
    "### Scatterplot to identify correlations"
   ]
  },
  {
   "cell_type": "code",
   "execution_count": null,
   "metadata": {},
   "outputs": [],
   "source": [
    "sns.pairplot(cleaned_df, corner=True)"
   ]
  },
  {
   "cell_type": "markdown",
   "metadata": {},
   "source": [
    "___Remarks___: </br>\n",
    "- Pairplot to provide a high overview of the correlation between the different categories.\n",
    "- It would be interesting to expand further on the correlation between (1) mean_sunshine_hrs vs no_of_rainy_days, (2) mean_rh and no_of_rainy_days, (3) mean_rh vs mean_sunshine_hrs."
   ]
  },
  {
   "cell_type": "markdown",
   "metadata": {},
   "source": [
    "#### Scatterplot - mean_sunshine_hrs vs no_of_rainy_days"
   ]
  },
  {
   "cell_type": "code",
   "execution_count": null,
   "metadata": {},
   "outputs": [],
   "source": [
    "plt.scatter(cleaned_df['mean_sunshine_hrs'], cleaned_df['no_of_rainy_days'])\n",
    "plt.xlabel(\"mean_sunshine_hrs (hours)\")\n",
    "plt.ylabel(\"no_of_rainy_days (days)\")\n",
    "plt.title(\"Scatterplot of mean_sunshine_hrs (hours) vs. no_of_rainy_days (days)\")\n",
    "\n",
    "z = np.polyfit(cleaned_df['mean_sunshine_hrs'], cleaned_df['no_of_rainy_days'], 1)\n",
    "p = np.poly1d(z)\n",
    "plt.plot(cleaned_df['mean_sunshine_hrs'],p(cleaned_df['mean_sunshine_hrs']),\"r--\");"
   ]
  },
  {
   "cell_type": "markdown",
   "metadata": {},
   "source": [
    "#### Scatterplot - mean_rh vs no_of_rainy_days"
   ]
  },
  {
   "cell_type": "code",
   "execution_count": null,
   "metadata": {},
   "outputs": [],
   "source": [
    "plt.scatter(cleaned_df['mean_rh'], cleaned_df['no_of_rainy_days'])\n",
    "plt.xlabel(\"mean_rh (%)\")\n",
    "plt.ylabel(\"no_of_rainy_days (days)\")\n",
    "plt.title(\"Scatterplot of mean_rh (%) vs. no_of_rainy_days (days)\")\n",
    "\n",
    "z = np.polyfit(cleaned_df['mean_rh'], cleaned_df['no_of_rainy_days'], 1)\n",
    "p = np.poly1d(z)\n",
    "plt.plot(cleaned_df['mean_rh'],p(cleaned_df['mean_rh']),\"r--\");"
   ]
  },
  {
   "cell_type": "markdown",
   "metadata": {},
   "source": [
    "#### Scatterplot - mean_rh vs mean_sunshine_hrs"
   ]
  },
  {
   "cell_type": "code",
   "execution_count": null,
   "metadata": {},
   "outputs": [],
   "source": [
    "plt.scatter(cleaned_df['mean_rh'], cleaned_df['mean_sunshine_hrs'])\n",
    "plt.xlabel(\"mean_rh (%)\")\n",
    "plt.ylabel(\"mean_sunshine_hrs (hours)\")\n",
    "plt.title(\"Scatterplot of mean_rh (%) vs. mean_sunshine_hrs (hours)\")\n",
    "\n",
    "z = np.polyfit(cleaned_df['mean_rh'], cleaned_df['mean_sunshine_hrs'], 1)\n",
    "p = np.poly1d(z)\n",
    "plt.plot(cleaned_df['mean_rh'],p(cleaned_df['mean_rh']),\"r--\");"
   ]
  },
  {
   "cell_type": "markdown",
   "metadata": {},
   "source": [
    "___Remarks___: </br>\n",
    "Based from the plots, it can be observed that:\n",
    "1) The amount of sunshine decreases as the number of rain days decreases.\n",
    "2) The amount of humidity increases as the number of rainy days increases.\n",
    "3) The amount of humidity increases as the amount of sunshine decreases.\n",
    "* Portable handheld fans can be sold together with umbrellas. A strange combination, but possible."
   ]
  },
  {
   "cell_type": "markdown",
   "metadata": {},
   "source": [
    "### Line plot for total rainfall across the months for the past 5 years"
   ]
  },
  {
   "cell_type": "code",
   "execution_count": null,
   "metadata": {},
   "outputs": [],
   "source": [
    "# Create a category for month\n",
    "cleaned_df['month-mmm'] = pd.DatetimeIndex(cleaned_df['month']).month"
   ]
  },
  {
   "cell_type": "code",
   "execution_count": null,
   "metadata": {},
   "outputs": [],
   "source": [
    "cleaned_df.head()"
   ]
  },
  {
   "cell_type": "code",
   "execution_count": null,
   "metadata": {},
   "outputs": [],
   "source": [
    "# Filter data\n",
    "filtered_df_2022 = cleaned_df[cleaned_df['year']==2022]\n",
    "filtered_df_2021 = cleaned_df[cleaned_df['year']==2021]\n",
    "filtered_df_2020 = cleaned_df[cleaned_df['year']==2020]\n",
    "filtered_df_2019 = cleaned_df[cleaned_df['year']==2019]\n",
    "filtered_df_2018 = cleaned_df[cleaned_df['year']==2018]\n",
    "\n",
    "# Groupby to calculate mean\n",
    "filtered_df = cleaned_df[cleaned_df['year'].between(2018,2023)]\n",
    "mean_rainfall_df = filtered_df.groupby('month-mmm')['total_rainfall'].mean ()"
   ]
  },
  {
   "cell_type": "code",
   "execution_count": null,
   "metadata": {},
   "outputs": [],
   "source": [
    "# Establish figure size\n",
    "plt.figure(figsize = (16, 9))\n",
    "\n",
    "# Plot data\n",
    "plt.plot(filtered_df_2022['month-mmm'], filtered_df_2022['total_rainfall'], label = '2022', linewidth=2, c='black')\n",
    "plt.plot(filtered_df_2021['month-mmm'], filtered_df_2021['total_rainfall'], label = '2021', linewidth=2, c='orange')\n",
    "plt.plot(filtered_df_2020['month-mmm'], filtered_df_2020['total_rainfall'], label = '2020', linewidth=2, c='blue')\n",
    "plt.plot(filtered_df_2019['month-mmm'], filtered_df_2019['total_rainfall'], label = '2019', linewidth=2, c='magenta')\n",
    "plt.plot(filtered_df_2018['month-mmm'], filtered_df_2018['total_rainfall'], label = '2018', linewidth=2, c='cyan')\n",
    "plt.plot(mean_rainfall_df, label = 'Mean', linewidth=7, c='red')\n",
    "\n",
    "\n",
    "# Legend\n",
    "plt.legend(loc = 'upper right', fontsize = 20)\n",
    "\n",
    "# Draw grid\n",
    "plt.grid(True, linewidth = 0.5, linestyle = '-', c = 'black', alpha = 0.1)\n",
    "\n",
    "# Create tick mark labels on the Y axis and rotate them.\n",
    "plt.xticks(fontsize = 20)\n",
    "plt.yticks(fontsize = 20)\n",
    "\n",
    "# Create title.\n",
    "plt.title(\"Total rainfall across the months from 2018-2022\", fontsize = 30)\n",
    "\n",
    "# Label axis\n",
    "plt.xlabel(\"Months\").set_fontsize(20)\n",
    "plt.ylabel(\"Total rainfall (mm)\").set_fontsize(20)"
   ]
  },
  {
   "cell_type": "code",
   "execution_count": null,
   "metadata": {},
   "outputs": [],
   "source": [
    "mean_rainfall_df"
   ]
  },
  {
   "cell_type": "markdown",
   "metadata": {},
   "source": [
    "___Remarks___: </br>\n",
    "- High amount of rainfall can be observed from November to January (Northeast Monsoon) as well as in April and June (Southwest Monsoon)."
   ]
  },
  {
   "cell_type": "markdown",
   "metadata": {},
   "source": [
    "### Line plot for mean relative humidity across the months for the past 5 years"
   ]
  },
  {
   "cell_type": "code",
   "execution_count": null,
   "metadata": {},
   "outputs": [],
   "source": [
    "mean_rh_df = filtered_df.groupby('month-mmm')['mean_rh'].mean ()"
   ]
  },
  {
   "cell_type": "code",
   "execution_count": null,
   "metadata": {},
   "outputs": [],
   "source": [
    "# Establish figure size\n",
    "plt.figure(figsize = (16, 9))\n",
    "\n",
    "# Plot data\n",
    "plt.plot(filtered_df_2022['month-mmm'], filtered_df_2022['mean_rh'], label = '2022', linewidth=2, c='black')\n",
    "plt.plot(filtered_df_2021['month-mmm'], filtered_df_2021['mean_rh'], label = '2021', linewidth=2, c='orange')\n",
    "plt.plot(filtered_df_2020['month-mmm'], filtered_df_2020['mean_rh'], label = '2020', linewidth=2, c='blue')\n",
    "plt.plot(filtered_df_2019['month-mmm'], filtered_df_2019['mean_rh'], label = '2019', linewidth=2, c='magenta')\n",
    "plt.plot(filtered_df_2018['month-mmm'], filtered_df_2018['mean_rh'], label = '2018', linewidth=2, c='cyan')\n",
    "plt.plot(mean_rh_df, label = 'Mean', linewidth=7, c='red')\n",
    "\n",
    "\n",
    "# Legend\n",
    "plt.legend(loc = 'upper right', fontsize = 20)\n",
    "\n",
    "# Draw grid\n",
    "plt.grid(True, linewidth = 0.5, linestyle = '-', c = 'black', alpha = 0.1)\n",
    "\n",
    "# Create tick mark labels on the Y axis and rotate them.\n",
    "plt.xticks(fontsize = 20)\n",
    "plt.yticks(fontsize = 20)\n",
    "\n",
    "# Create title.\n",
    "plt.title(\"Total relative humidity across the months from 2018-2022\", fontsize = 30)\n",
    "\n",
    "# Label axis\n",
    "plt.xlabel(\"Months\").set_fontsize(20)\n",
    "plt.ylabel(\"Mean relative humidity (%)\").set_fontsize(20)"
   ]
  },
  {
   "cell_type": "code",
   "execution_count": null,
   "metadata": {},
   "outputs": [],
   "source": [
    "mean_rh_df"
   ]
  },
  {
   "cell_type": "markdown",
   "metadata": {},
   "source": [
    "___Remarks___: </br>\n",
    "- High humidity levels are observed in months with high rainfall."
   ]
  },
  {
   "cell_type": "markdown",
   "metadata": {},
   "source": [
    "### Line plot for mean sunshine hours across the months for the past 5 years"
   ]
  },
  {
   "cell_type": "code",
   "execution_count": null,
   "metadata": {},
   "outputs": [],
   "source": [
    "mean_sunshine_df = filtered_df.groupby('month-mmm')['mean_sunshine_hrs'].mean ()"
   ]
  },
  {
   "cell_type": "code",
   "execution_count": null,
   "metadata": {},
   "outputs": [],
   "source": [
    "# Establish figure size\n",
    "plt.figure(figsize = (16, 9))\n",
    "\n",
    "# Plot data\n",
    "plt.plot(filtered_df_2022['month-mmm'], filtered_df_2022['mean_sunshine_hrs'], label = '2022', linewidth=2, c='black')\n",
    "plt.plot(filtered_df_2021['month-mmm'], filtered_df_2021['mean_sunshine_hrs'], label = '2021', linewidth=2, c='orange')\n",
    "plt.plot(filtered_df_2020['month-mmm'], filtered_df_2020['mean_sunshine_hrs'], label = '2020', linewidth=2, c='blue')\n",
    "plt.plot(filtered_df_2019['month-mmm'], filtered_df_2019['mean_sunshine_hrs'], label = '2019', linewidth=2, c='magenta')\n",
    "plt.plot(filtered_df_2018['month-mmm'], filtered_df_2018['mean_sunshine_hrs'], label = '2018', linewidth=2, c='cyan')\n",
    "plt.plot(mean_sunshine_df, label = 'Mean', linewidth=7, c='red')\n",
    "\n",
    "\n",
    "# Legend\n",
    "plt.legend(loc = 'upper right', fontsize = 20)\n",
    "\n",
    "# Draw grid\n",
    "plt.grid(True, linewidth = 0.5, linestyle = '-', c = 'black', alpha = 0.1)\n",
    "\n",
    "# Create tick mark labels on the Y axis and rotate them.\n",
    "plt.xticks(fontsize = 20)\n",
    "plt.yticks(fontsize = 20)\n",
    "\n",
    "# Create title.\n",
    "plt.title(\"Total sunshine hours across the months from 2018-2022\", fontsize = 30)\n",
    "\n",
    "# Label axis\n",
    "plt.xlabel(\"Months\").set_fontsize(20)\n",
    "plt.ylabel(\"Mean sunshine hours (hours)\").set_fontsize(20)"
   ]
  },
  {
   "cell_type": "code",
   "execution_count": null,
   "metadata": {},
   "outputs": [],
   "source": [
    "mean_sunshine_df"
   ]
  },
  {
   "cell_type": "markdown",
   "metadata": {},
   "source": [
    "___Remarks___: </br>\n",
    "- High amount of sunshine hours can be observed from February to April and from July to August."
   ]
  },
  {
   "cell_type": "code",
   "execution_count": null,
   "metadata": {},
   "outputs": [],
   "source": [
    "mean_raindays_df = filtered_df.groupby('month-mmm')['no_of_rainy_days'].mean ()"
   ]
  },
  {
   "cell_type": "markdown",
   "metadata": {},
   "source": [
    "### Line plot for changes in rainy days per month for the past 5 years"
   ]
  },
  {
   "cell_type": "code",
   "execution_count": null,
   "metadata": {},
   "outputs": [],
   "source": [
    "mean_rainydays_df = filtered_df.groupby('month-mmm')['no_of_rainy_days'].mean ()"
   ]
  },
  {
   "cell_type": "code",
   "execution_count": null,
   "metadata": {},
   "outputs": [],
   "source": [
    "# Establish figure size\n",
    "plt.figure(figsize = (16, 9))\n",
    "\n",
    "# Plot data\n",
    "plt.plot(filtered_df_2022['month-mmm'], filtered_df_2022['no_of_rainy_days'], label = '2022', linewidth=2, c='black')\n",
    "plt.plot(filtered_df_2021['month-mmm'], filtered_df_2021['no_of_rainy_days'], label = '2021', linewidth=2, c='orange')\n",
    "plt.plot(filtered_df_2020['month-mmm'], filtered_df_2020['no_of_rainy_days'], label = '2020', linewidth=2, c='blue')\n",
    "plt.plot(filtered_df_2019['month-mmm'], filtered_df_2019['no_of_rainy_days'], label = '2019', linewidth=2, c='magenta')\n",
    "plt.plot(filtered_df_2018['month-mmm'], filtered_df_2018['no_of_rainy_days'], label = '2018', linewidth=2, c='cyan')\n",
    "plt.plot(mean_rainydays_df, label = 'Mean', linewidth=7, c='red')\n",
    "\n",
    "\n",
    "# Legend\n",
    "plt.legend(loc = 'upper right', fontsize = 20)\n",
    "\n",
    "# Draw grid\n",
    "plt.grid(True, linewidth = 0.5, linestyle = '-', c = 'black', alpha = 0.1)\n",
    "\n",
    "# Create tick mark labels on the Y axis and rotate them.\n",
    "plt.xticks(fontsize = 20)\n",
    "plt.yticks(fontsize = 20)\n",
    "\n",
    "# Create title.\n",
    "plt.title(\"Number of rainy days across the months from 2018-2022\", fontsize = 30)\n",
    "\n",
    "# Label axis\n",
    "plt.xlabel(\"Months\").set_fontsize(20)\n",
    "plt.ylabel(\"Number of rainy days\").set_fontsize(20)"
   ]
  },
  {
   "cell_type": "markdown",
   "metadata": {},
   "source": [
    "___Remarks___: </br>\n",
    "- High amount of rainy days can be observed from November to January (Northeast Monsoon) as well as in April and June (Southwest Monsoon)."
   ]
  },
  {
   "cell_type": "markdown",
   "metadata": {},
   "source": [
    "## Conclusions and Recommendations"
   ]
  },
  {
   "cell_type": "markdown",
   "metadata": {},
   "source": [
    "Based on your exploration of the data, what are you key takeaways and recommendations? Make sure to answer your question of interest or address your problem statement here."
   ]
  },
  {
   "cell_type": "markdown",
   "metadata": {},
   "source": [
    "___Problem statement___: </br>\n",
    "The Outdoor Collectives (TOC) is an outdoor apparel shop known for their handheld electronic fans, lightweight umbrellas as well as sunblock lotions. Established since the early 2000s in Honolulu, Hawaii, TOC has since expanded it's operations to America and has set its sights on the Asean region, with Singapore being the first country for their market entry strategy. At the same time, TOC has identified that consumers are becoming increasingly reluctant to carry umbrellas, electronic fans and sunblock lotion as part of their everyday carry (EDC), citing reasons that it takes up additional space in their bags. As such, TOC also like to explore to setup of temoprary retail spaces around Singapore to sell their products.\n",
    "\n",
    "TOC's target consumers would be Singapore residents from all age groups. The organisation wants to ensure that there is proper inventory management throughout the year, taking into account the Singapore weather conditions. The organisation anticipates sales for sunblock lotion and visors to be higher on days with more sunlight and while those for electronic fans on days with high humidity levels. Sales of umbrellas are expected to be higher on rainy days.\n",
    "\n",
    "This study explores the analysis of Singapore's historical weather data to enable TOC to efficiently cater for supplies of their products throughout the year."
   ]
  },
  {
   "cell_type": "markdown",
   "metadata": {},
   "source": [
    "___Recommendations___: </br>\n",
    "TOC can cater more inventory for umbrellas and electronic fans from November to January as well as from April to june.\n",
    "\n",
    "TOC can also plan for more supplies of sunblock lotions from February to April and from July to August.\n",
    "\n",
    "There is no predicted demand for either of the products for the month of September and October. TOC can maintain a 'neutral' level of inventory during this period."
   ]
  },
  {
   "cell_type": "markdown",
   "metadata": {},
   "source": [
    "|Month|Product With Expected Higher Demand|\n",
    "|---|---|\n",
    "|Jan| Umbrellas and electronic fans|\n",
    "|Feb| Sunblock lotion|\n",
    "|Mar| Sunblock lotion|\n",
    "|Apr| Sunblock lotion, umbrellas and electronic fans|\n",
    "|May| Umbrellas and electronic fans|\n",
    "|Jun| Umbrellas and electronic fans|\n",
    "|Jul| Sunblock lotion|\n",
    "|Aug| Sunblock lotion|\n",
    "|Sep| nil|\n",
    "|Oct| nil|\n",
    "|Nov| Umbrellas and electronic fans|\n",
    "|Dec| Umbrellas and electronic fans|"
   ]
  },
  {
   "cell_type": "markdown",
   "metadata": {},
   "source": [
    "No correlation was observed between the inflation levels and the weather data. However, taking into account the year-on-year increase in inflation levels, for months where there is an expected higher demand for at least two products, TOC could explore a discount campaign to drive an increase in the amount of sales."
   ]
  },
  {
   "cell_type": "markdown",
   "metadata": {},
   "source": [
    "___Future explorations___: </br>\n",
    "1) Although no correlation was observed between historical inflation levels and weather data, with more datasets provided surrounding inflation (e.g. Consumer Price Index levels) could influence a change in the observation.\n",
    "2) With geographical data mapping the areas of high rainfall and sunshine including intensity levels, this could enable TOC to plan inventory at a more micro level and decide which regions of Singapore would be worthwhile setting up their pop-up shop at."
   ]
  },
  {
   "cell_type": "markdown",
   "metadata": {},
   "source": [
    "Don't forget to create your README!\n",
    "\n",
    "**To-Do:** *If you combine your problem statement, data dictionary, brief summary of your analysis, and conclusions/recommendations, you have an amazing README.md file that quickly aligns your audience to the contents of your project.* Don't forget to cite your data sources!"
   ]
  }
 ],
 "metadata": {
  "anaconda-cloud": {},
  "kernelspec": {
   "display_name": "Python 3 (ipykernel)",
   "language": "python",
   "name": "python3"
  },
  "language_info": {
   "codemirror_mode": {
    "name": "ipython",
    "version": 3
   },
   "file_extension": ".py",
   "mimetype": "text/x-python",
   "name": "python",
   "nbconvert_exporter": "python",
   "pygments_lexer": "ipython3",
   "version": "3.9.12"
  }
 },
 "nbformat": 4,
 "nbformat_minor": 4
}
